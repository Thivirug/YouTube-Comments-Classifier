{
 "cells": [
  {
   "cell_type": "markdown",
   "metadata": {},
   "source": [
    "# Classification of YouTube comments as Spam or Non-Spam "
   ]
  },
  {
   "cell_type": "markdown",
   "metadata": {},
   "source": [
    "#### With the advancement of intelligent bots, Spam comments have been commonplace for quite sometime in mainstream softwares like YouTube. My project explores how to develop a machine learning model, more specifically a RandomForest classifier that can predict whether a comment is spam or non-spam, given a particular input vector of data. "
   ]
  },
  {
   "cell_type": "markdown",
   "metadata": {},
   "source": [
    "#### The main steps to follow\n",
    "1. Choosing a suitable dataset - https://www.kaggle.com/datasets/ahsenwaheed/youtube-comments-spam-dataset\n",
    "I used this dataset to train my classifier.\n",
    "2. Preprocessing data - This dataset has duplicate values and missing values. Also, some features have to be encoded and the 'CONTENT' column has to be vectorized.\n",
    "3. Training the model - Selecting an appropriate model for training. \n",
    "4. Evaluation of the model - Using evaluation metrics for classification models.\n",
    "5. Re-tuning hyperparameters till an acceptable optimum result is obtained - Varying hyperparameter values."
   ]
  },
  {
   "cell_type": "code",
   "execution_count": 2,
   "metadata": {},
   "outputs": [],
   "source": [
    "import pandas as pd #for dataframe manipulations\n",
    "import numpy as np  #for efficient math operations\n",
    "from sklearn.feature_extraction.text import CountVectorizer #To vectorize text\n",
    "import matplotlib.pyplot as plt #For plotting\n",
    "from sklearn.preprocessing import LabelEncoder #For label encoding\n",
    "from sklearn.model_selection import train_test_split #For train test splitting\n",
    "from sklearn.ensemble import RandomForestClassifier #For Random Forest model training\n",
    "from sklearn.metrics import accuracy_score, precision_score, recall_score, f1_score, ConfusionMatrixDisplay, classification_report\n",
    "from sklearn.metrics import confusion_matrix as c_m"
   ]
  },
  {
   "cell_type": "markdown",
   "metadata": {},
   "source": [
    "#### Preprocessing Data\n",
    "\n",
    "1. Removing rows with missing values\n",
    "2. Removing duplicate rows\n",
    "3. Label Encoding\n",
    "4. Removing unnecessary features\n",
    " \n",
    "5. Vectorizing  the 'Content' column"
   ]
  },
  {
   "cell_type": "code",
   "execution_count": 33,
   "metadata": {},
   "outputs": [],
   "source": [
    "def data_cleaning_encoding(data):\n",
    "    \"\"\"Performs data cleaning operations (Removal of null/missing values and duplicates)\n",
    "\n",
    "    Args:\n",
    "        data (Pandas DataFrame): The initial DataFrame that holds data\n",
    "\n",
    "    Returns:\n",
    "        Pandas DataFrame: The cleaned DataFrame\n",
    "    \"\"\"\n",
    "\n",
    "    #Handling missing/null values\n",
    "    if data.isnull().any(axis=1).any():  #checking for rows with null/missing values\n",
    "        null_rows = data[data.isnull().any(axis=1)]\n",
    "        print(f\"Found {len(null_rows)} rows with null values.. Removing them...\")\n",
    "        data.dropna(inplace=True)  #removing rows with null values\n",
    "\n",
    "    #Handling duplicates\n",
    "    if data.duplicated().any():  #checking for duplicate rows\n",
    "        dup_rows = data[data.duplicated()]\n",
    "        print(f\"Found {len(dup_rows)} duplicate rows.. Removing them...\")\n",
    "        data.drop_duplicates(inplace=True) #removing duplicate rows\n",
    "\n",
    "    #Encoding String columns\n",
    "    le = LabelEncoder()\n",
    "    data[\"AUTHOR\"] = le.fit_transform(data[\"AUTHOR\"])\n",
    "    data[\"VIDEO_NAME\"] = le.fit_transform(data[\"VIDEO_NAME\"])\n",
    "\n",
    "    #Removing unnecessary features\n",
    "    data.drop([\"DATE\"], axis=1, inplace=True)\n",
    "    data.drop([\"COMMENT_ID\"], axis=1, inplace=True)\n",
    "\n",
    "    #Reset index after cleaning \n",
    "    #Resetting the index is essential as this cleaned dataframe is concatanted with the vectorized dataframe in the next vectorizing function.\n",
    "    #Otherwise when merging the 2 dataframes, indices misalign and introduce new NaN values.\n",
    "    data.reset_index(drop=True, inplace=True)\n",
    "\n",
    "    #print(data.isnull().sum())  #debug statement \n",
    "    return data"
   ]
  },
  {
   "cell_type": "code",
   "execution_count": 34,
   "metadata": {},
   "outputs": [],
   "source": [
    "def vectorizing(cleaned_data): #https://medium.com/@divyansh3021/text-vectorization-transforming-words-into-meaningful-representations-e03b31bb3cb3\n",
    "    \"\"\"Performs vectorization operations\n",
    "\n",
    "    Args:\n",
    "        cleaned_data (Pandas DataFrame): A cleaned DataFrame \n",
    "\n",
    "    Returns:\n",
    "        Pandas DataFrame: The cleaned + feature vectorized DataFrame\n",
    "    \"\"\"\n",
    "    feature_to_vectorize = cleaned_data['CONTENT']\n",
    "    vectorizer = CountVectorizer() #Initializing the vectorizer\n",
    "\n",
    "    #vectorizer.fit_transform returns a sparse matrix (only non zero elements are stored). To convert it to a dense array, use toarray()\n",
    "    #Then it is easier to transform the vectorized array into a dataframe\n",
    "    vectorized_feature_array = vectorizer.fit_transform(feature_to_vectorize).toarray() \n",
    "\n",
    "    vectorized_df = pd.DataFrame(vectorized_feature_array, columns=vectorizer.get_feature_names_out()) #Transforming the vectorized Dense array into a dataframe\n",
    "\n",
    "    # Reset indices to ensure alignment\n",
    "    # This is a defensive programming step to re-ensure that the indices of the two dataframes are aligned before concatenation\n",
    "    vectorized_df.reset_index(drop=True, inplace=True)\n",
    "    cleaned_data.reset_index(drop=True, inplace=True)\n",
    "\n",
    "    # Concatenate the two dataframes\n",
    "    combined_data = pd.concat([cleaned_data, vectorized_df], axis=1)\n",
    "\n",
    "    #print(combined_data.isnull().sum()) #debug statement\n",
    "    return combined_data"
   ]
  },
  {
   "cell_type": "markdown",
   "metadata": {},
   "source": [
    "#### Training a classification model (RandomForest)"
   ]
  },
  {
   "cell_type": "code",
   "execution_count": 35,
   "metadata": {},
   "outputs": [],
   "source": [
    "def train_test_splitting(data, test_size=0.3):\n",
    "    \"\"\"Performs train test splitting\n",
    "\n",
    "    Args:\n",
    "        data (Pandas DataFrame): Preprocessed DataFrame\n",
    "\n",
    "    Returns:\n",
    "        (Pandas DataFrame, Pandas DataFrame, Pandas DataFrame, Pandas DataFrame): The train and test dataframes\n",
    "    \"\"\"\n",
    "    \n",
    "    x = data.drop([\"CLASS\",\"CONTENT\"], axis=1) #The content column is of no use after vectorization\n",
    "    y = data[\"CLASS\"]\n",
    "\n",
    "    x_train, x_test, y_train, y_test = train_test_split(x, y, test_size=test_size, random_state=42)\n",
    "\n",
    "    return x_train, x_test, y_train, y_test"
   ]
  },
  {
   "cell_type": "code",
   "execution_count": 36,
   "metadata": {},
   "outputs": [],
   "source": [
    "def model_training_random_forest(x_train, y_train, n_estimators, max_depth, max_features):\n",
    "    \"\"\"Performs model training\n",
    "\n",
    "    Args:\n",
    "        x_train (Pandas DataFrame): Training examples\n",
    "        y_train (Pandas DataFrame): Training labels\n",
    "        n_estimators (int): Number of estimators\n",
    "        max_depth (int): Maximum depth of trees\n",
    "        max_features (int|double): Maximum number of features to consider when looking for the best split\n",
    "\n",
    "    Returns:\n",
    "        RandomForestClassifier: A trained model\n",
    "    \"\"\"\n",
    "    \n",
    "    model = RandomForestClassifier(criterion='entropy', random_state=42, n_estimators=n_estimators, max_depth=max_depth, max_features=max_features)\n",
    "    model.fit(x_train, y_train)\n",
    "\n",
    "    return model"
   ]
  },
  {
   "cell_type": "markdown",
   "metadata": {},
   "source": [
    "#### Model Evaluation "
   ]
  },
  {
   "cell_type": "code",
   "execution_count": 37,
   "metadata": {},
   "outputs": [],
   "source": [
    "def model_evaluation_scores(y_pred, y_test):\n",
    "    \"\"\"Performs model evaluation using metrics such as accuracy, precision, recall, f1\n",
    "\n",
    "    Args:\n",
    "        y_pred (NumPy array): Predicted labels\n",
    "        y_test (Pandas DataFrame): Testing labels\n",
    "\n",
    "    Returns:\n",
    "        (float, float, float, float): Evaluation metrics (accuracy, precision, recall, f1)\n",
    "    \"\"\"\n",
    "    \n",
    "    accuracy = accuracy_score(y_test, y_pred)\n",
    "    precision = precision_score(y_test, y_pred)\n",
    "    recall = recall_score(y_test, y_pred)\n",
    "    f1 = f1_score(y_test, y_pred)\n",
    "\n",
    "    return accuracy, precision, recall, f1"
   ]
  },
  {
   "cell_type": "code",
   "execution_count": 38,
   "metadata": {},
   "outputs": [],
   "source": [
    "def confusion_matrix(y_pred, y_test):\n",
    "    \"\"\"Plots confusion matrix\n",
    "\n",
    "    Args:\n",
    "        y_pred (NumPy array): Predicted labels\n",
    "        y_test (Pandas DataFrame): Testing labels\n",
    "\n",
    "    \"\"\"\n",
    "    cm = c_m(y_test, y_pred)\n",
    "    cmp = ConfusionMatrixDisplay(confusion_matrix=cm, display_labels=['SPAM', 'NON-SPAM'])\n",
    "    cmp.plot(cmap=plt.cm.Blues)\n",
    "    plt.title('Confusion Matrix')\n",
    "    plt.show()"
   ]
  },
  {
   "cell_type": "code",
   "execution_count": 39,
   "metadata": {},
   "outputs": [],
   "source": [
    "def classification_rep(y_pred, y_test):\n",
    "    \"\"\"Generates the classification report\n",
    "\n",
    "    Args:\n",
    "        y_pred (Numpy array): Predicted labels\n",
    "        y_test (Pandas Dataframe): Testing labels\n",
    "    \"\"\"\n",
    "    print(classification_report(y_test, y_pred, target_names=['SPAM', 'NON-SPAM']))"
   ]
  },
  {
   "cell_type": "markdown",
   "metadata": {},
   "source": [
    "#### Running the training and evaluation process"
   ]
  },
  {
   "cell_type": "code",
   "execution_count": 44,
   "metadata": {},
   "outputs": [
    {
     "name": "stdout",
     "output_type": "stream",
     "text": [
      "Found 245 rows with null values.. Removing them...\n",
      "Found 1 duplicate rows.. Removing them...\n"
     ]
    },
    {
     "data": {
      "image/png": "[encoded data removed]",
      "text/plain": [
       "<Figure size 640x480 with 2 Axes>"
      ]
     },
     "metadata": {},
     "output_type": "display_data"
    },
    {
     "name": "stdout",
     "output_type": "stream",
     "text": [
      "              precision    recall  f1-score   support\n",
      "\n",
      "        SPAM       0.89      0.99      0.94       279\n",
      "    NON-SPAM       0.99      0.86      0.92       234\n",
      "\n",
      "    accuracy                           0.93       513\n",
      "   macro avg       0.94      0.93      0.93       513\n",
      "weighted avg       0.94      0.93      0.93       513\n",
      "\n",
      "Accuracy: 0.9317738791423001\n",
      "Precision: 0.9901477832512315\n",
      "Recall: 0.8589743589743589\n",
      "F1: 0.919908466819222\n"
     ]
    }
   ],
   "source": [
    "def main():\n",
    "    data = pd.read_csv('Youtube-Spam-Dataset.csv')\n",
    "    data = data_cleaning_encoding(data)\n",
    "    #print(data.shape) #debug statement\n",
    "    data = vectorizing(data)\n",
    "    #print(data.shape) #debug statement\n",
    "\n",
    "    x_train, x_test, y_train, y_test = train_test_splitting(data)\n",
    "    model = model_training_random_forest(x_train, y_train, n_estimators=160, max_depth=20, max_features='sqrt')\n",
    "\n",
    "    y_pred = model.predict(x_test)  \n",
    "\n",
    "    accuracy, precision, recall, f1 = model_evaluation_scores(y_pred, y_test)\n",
    "\n",
    "    confusion_matrix(y_pred, y_test)\n",
    "\n",
    "    classification_rep(y_pred, y_test)\n",
    "\n",
    "    print(f\"Accuracy: {accuracy}\\nPrecision: {precision}\\nRecall: {recall}\\nF1: {f1}\") \n",
    "\n",
    "if __name__ == \"__main__\":\n",
    "    main()"
   ]
  }
 ],
 "metadata": {
  "kernelspec": {
   "display_name": "Python 3",
   "language": "python",
   "name": "python3"
  },
  "language_info": {
   "codemirror_mode": {
    "name": "ipython",
    "version": 3
   },
   "file_extension": ".py",
   "mimetype": "text/x-python",
   "name": "python",
   "nbconvert_exporter": "python",
   "pygments_lexer": "ipython3",
   "version": "3.11.2"
  }
 },
 "nbformat": 4,
 "nbformat_minor": 2
}
